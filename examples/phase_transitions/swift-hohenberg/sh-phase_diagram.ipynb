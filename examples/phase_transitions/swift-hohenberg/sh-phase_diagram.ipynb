{
 "cells": [
  {
   "cell_type": "code",
   "execution_count": null,
   "metadata": {
    "collapsed": true
   },
   "outputs": [],
   "source": [
    "%matplotlib inline\n",
    "## Preamble\n",
    "from sympy import Symbol, symbols, pprint, Interval\n",
    "from sympy import sin, cos, sqrt, pi, oo\n",
    "from sympy import diff, solve, nsolve, apart, expand, factor, lambdify, simplify, Eq, re, im\n",
    "from sympy import init_printing\n",
    "\n",
    "from sympy.integrals import integrate\n",
    "from sympy.physics.vector import ReferenceFrame, divergence, gradient, scalar_potential\n",
    "from sympy.abc import epsilon, beta\n",
    "\n",
    "import numpy as np\n",
    "from matplotlib import pyplot as plt\n",
    "from scipy.optimize import fsolve"
   ]
  },
  {
   "cell_type": "code",
   "execution_count": null,
   "metadata": {
    "collapsed": false
   },
   "outputs": [],
   "source": [
    "### Declare coefficients and scalar variables as SymPy symbols\n",
    "n, n0 = symbols('n n0') # density\n",
    "nc, ns, nt = symbols('nc ns nt') # density\n",
    "A = symbols('A') # amplitude\n",
    "q = symbols('q', positive=True)        # reciprocal lattice spacing\n",
    "R = ReferenceFrame('R') # coordinates: x=R[0], y=R[1]\n",
    "init_printing()\n",
    "\n",
    "## Setup density fields\n",
    "nstr = n0 + A * cos(q*R[0])\n",
    "ntri = n0 + A * (cos(q*R[1]/2)*cos(sqrt(3)*q*R[0]/2) - cos(q*R[1])/2)"
   ]
  },
  {
   "cell_type": "code",
   "execution_count": null,
   "metadata": {
    "collapsed": false
   },
   "outputs": [],
   "source": [
    "pprint(nstr)"
   ]
  },
  {
   "cell_type": "code",
   "execution_count": null,
   "metadata": {
    "collapsed": false
   },
   "outputs": [],
   "source": [
    "pprint(ntri)"
   ]
  },
  {
   "cell_type": "code",
   "execution_count": null,
   "metadata": {
    "collapsed": true
   },
   "outputs": [],
   "source": [
    "### Plot densities\n",
    "## Prepare plotting arrays\n",
    "N = 50\n",
    "\n",
    "xs = np.zeros(N*N)\n",
    "ys = np.zeros(N*N)\n",
    "zs = np.zeros(N*N)\n",
    "zt = np.zeros(N*N)\n",
    "\n",
    "for j in range(N):\n",
    "    for i in range(N):\n",
    "        x = -10 + 20./N * i\n",
    "        y = -10 + 20./N * j\n",
    "        xs[N*j+i] = x\n",
    "        ys[N*j+i] = y\n",
    "        zs[N*j+i] = nstr.subs({n0:0, A:-0.2, q:1, R[0]:x, R[1]:y})\n",
    "        zt[N*j+i] = ntri.subs({n0:0, A:-0.2, q:1, R[0]:x, R[1]:y})"
   ]
  },
  {
   "cell_type": "code",
   "execution_count": null,
   "metadata": {
    "collapsed": false
   },
   "outputs": [],
   "source": [
    "plt.figure()\n",
    "plt.xlabel(\"$x$\")\n",
    "plt.ylabel(\"$y$\")\n",
    "plt.title(\"Striped Phase\")\n",
    "Cs = plt.tricontourf(xs, ys, zs, cmap=plt.cm.get_cmap('coolwarm'))\n",
    "plt.colorbar(Cs)"
   ]
  },
  {
   "cell_type": "code",
   "execution_count": null,
   "metadata": {
    "collapsed": false
   },
   "outputs": [],
   "source": [
    "plt.figure()\n",
    "plt.xlabel(\"$x$\")\n",
    "plt.ylabel(\"$y$\")\n",
    "plt.title(\"Hexagonal Phase\")\n",
    "Ct = plt.tricontourf(xs, ys, zt, cmap=plt.cm.get_cmap('coolwarm'))\n",
    "plt.colorbar(Ct)"
   ]
  },
  {
   "cell_type": "code",
   "execution_count": null,
   "metadata": {
    "collapsed": false
   },
   "outputs": [],
   "source": [
    "## Define free energy density\n",
    "\n",
    "### Define density gradients\n",
    "grad2str = divergence(gradient(nstr, R), R)\n",
    "grad4str = divergence(gradient(divergence(gradient(nstr, R), R), R), R)\n",
    "\n",
    "quadstr = nstr/2 * (epsilon*nstr + (nstr + 2*grad2str + grad4str))\n",
    "cubestr = -beta/3 * nstr**3\n",
    "quarstr = nstr**4 / 4\n",
    "\n",
    "grad2tri = divergence(gradient(ntri, R), R)\n",
    "grad4tri = divergence(gradient(divergence(gradient(ntri, R), R), R), R)\n",
    "\n",
    "quadtri = ntri/2 * (epsilon*ntri + (ntri + 2*grad2tri + grad4tri))\n",
    "cubetri = -beta/3 * ntri**3\n",
    "quartri = ntri**4 / 4"
   ]
  },
  {
   "cell_type": "code",
   "execution_count": null,
   "metadata": {
    "collapsed": false
   },
   "outputs": [],
   "source": [
    "### Integrate energy over striped unit wavelength\n",
    "astr = 2*pi/q\n",
    "F_str = simplify(1/astr * expand(integrate(quadstr + cubestr + quarstr, (R[0], 0, astr))))\n",
    "pprint(F_str)"
   ]
  },
  {
   "cell_type": "code",
   "execution_count": null,
   "metadata": {
    "collapsed": false
   },
   "outputs": [],
   "source": [
    "### Integrate energy over triangle unit cell\n",
    "atri = 2*pi/q\n",
    "F_tri = simplify(1/(2*atri*2/sqrt(3)*atri) * expand(integrate(quadtri + cubetri + quartri, (R[0], 0, 2*atri/sqrt(3)), (R[1], 0, 2*atri))))\n",
    "pprint(F_tri)"
   ]
  },
  {
   "cell_type": "code",
   "execution_count": null,
   "metadata": {
    "collapsed": false
   },
   "outputs": [],
   "source": [
    "## Optimize Parameters\n",
    "\n",
    "### Solve for q\n",
    "\n",
    "qstr = solve(Eq(diff(F_str, q), 0), q)\n",
    "pprint(qstr)"
   ]
  },
  {
   "cell_type": "code",
   "execution_count": null,
   "metadata": {
    "collapsed": false
   },
   "outputs": [],
   "source": [
    "qtri = solve(Eq(diff(F_tri, q), 0), q)\n",
    "pprint(qtri)"
   ]
  },
  {
   "cell_type": "code",
   "execution_count": null,
   "metadata": {
    "collapsed": false
   },
   "outputs": [],
   "source": [
    "### Solve for A\n",
    "\n",
    "Astr = solve(Eq(diff(F_str.subs({q:qstr[0]}), A), 0), A)\n",
    "pprint(Astr)"
   ]
  },
  {
   "cell_type": "code",
   "execution_count": null,
   "metadata": {
    "collapsed": false
   },
   "outputs": [],
   "source": [
    "Atri = solve(Eq(diff(F_tri.subs({q:qtri[0]}), A), 0), A)\n",
    "pprint(Atri)"
   ]
  },
  {
   "cell_type": "code",
   "execution_count": null,
   "metadata": {
    "collapsed": false
   },
   "outputs": [],
   "source": [
    "### Substitute optimal parameters into free energy expressions\n",
    "\n",
    "F_con = F_tri.subs({q:1, A:0})\n",
    "pprint(F_con)"
   ]
  },
  {
   "cell_type": "code",
   "execution_count": null,
   "metadata": {
    "collapsed": false
   },
   "outputs": [],
   "source": [
    "F_str = F_str.subs({q:qstr[0], A:Astr[2]})\n",
    "pprint(F_str)"
   ]
  },
  {
   "cell_type": "code",
   "execution_count": null,
   "metadata": {
    "collapsed": false
   },
   "outputs": [],
   "source": [
    "F_tri = F_tri.subs({q:qtri[0], A:Atri[1]})\n",
    "pprint(F_tri)"
   ]
  },
  {
   "cell_type": "code",
   "execution_count": null,
   "metadata": {
    "collapsed": false
   },
   "outputs": [],
   "source": [
    "## Plot free energy curves\n",
    "bet = 0.5\n",
    "eps = 0.05\n",
    "xs = np.linspace(-0.5, 0.5, 100)\n",
    "Fc = np.zeros(100)\n",
    "Fs = np.zeros(100)\n",
    "Ft = np.zeros(100)\n",
    "for i in range(len(xs)):\n",
    "    Fc[i] = re(F_con.subs({beta:bet, epsilon:eps, n0:xs[i]}))\n",
    "    Fs[i] = re(F_str.subs({beta:bet, epsilon:eps, n0:xs[i]}))\n",
    "    Ft[i] = re(F_tri.subs({beta:bet, epsilon:eps, n0:xs[i]}))"
   ]
  },
  {
   "cell_type": "code",
   "execution_count": null,
   "metadata": {
    "collapsed": false
   },
   "outputs": [],
   "source": [
    "plt.figure(figsize=(10,5))\n",
    "plt.xlabel(\"$n_0$\")\n",
    "plt.ylabel(\"$F$\")\n",
    "plt.title(r\"Free Energy $(\\epsilon=0.05,\\beta=0.5)$\")\n",
    "plt.plot(xs, Fc, label=\"constant\")\n",
    "plt.plot(xs, Fs, label=\"stripe\")\n",
    "plt.plot(xs, Ft, label=\"triangle\")\n",
    "plt.legend(loc=\"best\")"
   ]
  },
  {
   "cell_type": "code",
   "execution_count": null,
   "metadata": {
    "collapsed": false
   },
   "outputs": [],
   "source": [
    "## Construct the Phase Diagram with $\\beta=0$\n",
    "\n",
    "### Define thermodynamic potentials\n",
    "\n",
    "fcon = F_con.subs({beta:0, n0:nc})\n",
    "dfcon = diff(fcon, nc)\n",
    "\n",
    "fstr = F_str.subs({beta:0, n0:ns})\n",
    "dfstr = diff(fstr, ns)\n",
    "\n",
    "ftri = F_tri.subs({beta:0, n0:nt})\n",
    "dftri = diff(ftri, nt)"
   ]
  },
  {
   "cell_type": "code",
   "execution_count": null,
   "metadata": {
    "collapsed": false
   },
   "outputs": [],
   "source": [
    "### Define equations to solve (constant and triangular phases)\n",
    "eqn1 = dfcon - dftri\n",
    "eqn2 = fcon - ftri - dfcon * (nc - nt)\n",
    "\n",
    "### Generate numerically efficient expressions\n",
    "variables = (nc, nt)\n",
    "f1  = lambdify(variables, re(eqn1.subs({epsilon:-0.26})), modules='sympy')\n",
    "f2  = lambdify(variables, re(eqn2.subs({epsilon:-0.26})), modules='sympy')\n",
    "\n",
    "### Generate Jacobian matrix terms(for numeric solver)\n",
    "j1c = lambdify(variables, re(diff(eqn1.subs({epsilon:-0.26}), nc)), modules='sympy')\n",
    "j1t = lambdify(variables, re(diff(eqn1.subs({epsilon:-0.26}), nt)), modules='sympy')\n",
    "\n",
    "j2c = lambdify(variables, re(diff(eqn2.subs({epsilon:-0.26}), nc)), modules='sympy')\n",
    "j2t = lambdify(variables, re(diff(eqn2.subs({epsilon:-0.26}), nt)), modules='sympy')"
   ]
  },
  {
   "cell_type": "code",
   "execution_count": null,
   "metadata": {
    "collapsed": false
   },
   "outputs": [],
   "source": [
    "def eqncouple(N):\n",
    "    return [f1(N[0],N[1]),\n",
    "            f2(N[0],N[1])]\n",
    "\n",
    "def eqnjacob(N):\n",
    "    return [[j1c(N[0],N[1]), j1t(N[0],N[1])],\n",
    "            [j2c(N[0],N[1]), j2t(N[0],N[1])]]\n",
    "\n",
    "guess = [-0.35, -0.30]\n",
    "solcontri = fsolve(func=eqncouple, x0=guess, fprime=eqnjacob)\n",
    "print(solcontri)"
   ]
  },
  {
   "cell_type": "code",
   "execution_count": null,
   "metadata": {
    "collapsed": false
   },
   "outputs": [],
   "source": [
    "## Plot the tangent to confirm this result\n",
    "xs = np.linspace(-0.35, -0.29, 100)\n",
    "Fc = np.zeros(100)\n",
    "Fs = np.zeros(100)\n",
    "Ft = np.zeros(100)\n",
    "for i in range(len(xs)):\n",
    "    Fc[i] = re(F_con.subs({beta:0, epsilon:-0.26, n0:xs[i]}))\n",
    "    Ft[i] = re(F_tri.subs({beta:0, epsilon:-0.26, n0:xs[i]}))\n",
    "\n",
    "tangent = (re(F_con.subs({beta:0, epsilon:-0.26, n0:solcontri[0]})),\n",
    "           re(F_tri.subs({beta:0, epsilon:-0.26, n0:solcontri[1]})))\n",
    "\n",
    "plt.figure(figsize=(15,7))\n",
    "plt.xlabel(\"$n_0$\")\n",
    "plt.ylabel(\"$F$\")\n",
    "plt.title(r\"Free Energy $(\\epsilon=-0.26,\\beta=0.0)$\")\n",
    "plt.plot(xs, Fc, label=\"constant\", zorder=10)\n",
    "plt.plot(xs, Ft, label=\"triangle\", zorder=10)\n",
    "plt.plot(solcontri, tangent, label=\"tangent\", color=\"black\", zorder=1)\n",
    "plt.legend(loc=\"best\")"
   ]
  },
  {
   "cell_type": "code",
   "execution_count": null,
   "metadata": {
    "collapsed": true
   },
   "outputs": [],
   "source": [
    "## Construct the Phase Diagram\n",
    "\n",
    "### Notice that the triangle phase falls in-between the constant and striped phases."
   ]
  }
 ],
 "metadata": {
  "kernelspec": {
   "display_name": "Python [conda env:mmsp]",
   "language": "python",
   "name": "conda-env-mmsp-py"
  },
  "language_info": {
   "codemirror_mode": {
    "name": "ipython",
    "version": 2
   },
   "file_extension": ".py",
   "mimetype": "text/x-python",
   "name": "python",
   "nbconvert_exporter": "python",
   "pygments_lexer": "ipython2",
   "version": "2.7.13"
  }
 },
 "nbformat": 4,
 "nbformat_minor": 2
}
